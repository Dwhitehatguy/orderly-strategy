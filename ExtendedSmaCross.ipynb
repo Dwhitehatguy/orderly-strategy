{
 "cells": [
  {
   "cell_type": "code",
   "execution_count": 1,
   "id": "0ece289b",
   "metadata": {},
   "outputs": [
    {
     "name": "stdout",
     "output_type": "stream",
     "text": [
      "Requirement already satisfied: emp-orderly in ./.venv/lib/python3.12/site-packages (1.0)\n",
      "Requirement already satisfied: emp-orderly-types in ./.venv/lib/python3.12/site-packages (1.0)\n",
      "Requirement already satisfied: eth-typeshed-py in ./.venv/lib/python3.12/site-packages (0.1.9.post2)\n",
      "Requirement already satisfied: pandas-ta in ./.venv/lib/python3.12/site-packages (0.3.14b0)\n",
      "Requirement already satisfied: numpy==1.26.4 in ./.venv/lib/python3.12/site-packages (1.26.4)\n",
      "Requirement already satisfied: matplotlib in ./.venv/lib/python3.12/site-packages (3.9.2)\n",
      "Requirement already satisfied: setuptools in ./.venv/lib/python3.12/site-packages (75.1.0)\n",
      "Requirement already satisfied: base58==2.1.1 in ./.venv/lib/python3.12/site-packages (from emp-orderly) (2.1.1)\n",
      "Requirement already satisfied: bokeh==3.4.1 in ./.venv/lib/python3.12/site-packages (from emp-orderly) (3.4.1)\n",
      "Requirement already satisfied: cryptography==42.0.5 in ./.venv/lib/python3.12/site-packages (from emp-orderly) (42.0.5)\n",
      "Requirement already satisfied: eth-rpc-py==0.1.8post6 in ./.venv/lib/python3.12/site-packages (from emp-orderly) (0.1.8.post6)\n",
      "Requirement already satisfied: eth-typing==4.1.0 in ./.venv/lib/python3.12/site-packages (from emp-orderly) (4.1.0)\n",
      "Requirement already satisfied: eth-utils==4.1.0 in ./.venv/lib/python3.12/site-packages (from emp-orderly) (4.1.0)\n",
      "Requirement already satisfied: httpx==0.27.0 in ./.venv/lib/python3.12/site-packages (from emp-orderly) (0.27.0)\n",
      "Requirement already satisfied: pandas==2.2.2 in ./.venv/lib/python3.12/site-packages (from emp-orderly) (2.2.2)\n",
      "Requirement already satisfied: pydantic>=2.7.0 in ./.venv/lib/python3.12/site-packages (from emp-orderly) (2.9.2)\n",
      "Requirement already satisfied: python-dotenv==1.0.1 in ./.venv/lib/python3.12/site-packages (from emp-orderly) (1.0.1)\n",
      "Requirement already satisfied: requests==2.31.0 in ./.venv/lib/python3.12/site-packages (from emp-orderly) (2.31.0)\n",
      "Requirement already satisfied: Jinja2>=2.9 in ./.venv/lib/python3.12/site-packages (from bokeh==3.4.1->emp-orderly) (3.1.4)\n",
      "Requirement already satisfied: contourpy>=1.2 in ./.venv/lib/python3.12/site-packages (from bokeh==3.4.1->emp-orderly) (1.3.0)\n",
      "Requirement already satisfied: packaging>=16.8 in ./.venv/lib/python3.12/site-packages (from bokeh==3.4.1->emp-orderly) (24.1)\n",
      "Requirement already satisfied: pillow>=7.1.0 in ./.venv/lib/python3.12/site-packages (from bokeh==3.4.1->emp-orderly) (10.4.0)\n",
      "Requirement already satisfied: PyYAML>=3.10 in ./.venv/lib/python3.12/site-packages (from bokeh==3.4.1->emp-orderly) (6.0.1)\n",
      "Requirement already satisfied: tornado>=6.2 in ./.venv/lib/python3.12/site-packages (from bokeh==3.4.1->emp-orderly) (6.4.1)\n",
      "Requirement already satisfied: xyzservices>=2021.09.1 in ./.venv/lib/python3.12/site-packages (from bokeh==3.4.1->emp-orderly) (2024.9.0)\n",
      "Requirement already satisfied: cffi>=1.12 in ./.venv/lib/python3.12/site-packages (from cryptography==42.0.5->emp-orderly) (1.17.1)\n",
      "Requirement already satisfied: eth-abi in ./.venv/lib/python3.12/site-packages (from eth-rpc-py==0.1.8post6->emp-orderly) (5.1.0)\n",
      "Requirement already satisfied: eth-account in ./.venv/lib/python3.12/site-packages (from eth-rpc-py==0.1.8post6->emp-orderly) (0.13.4)\n",
      "Requirement already satisfied: eth-hash in ./.venv/lib/python3.12/site-packages (from eth-rpc-py==0.1.8post6->emp-orderly) (0.7.0)\n",
      "Requirement already satisfied: websockets in ./.venv/lib/python3.12/site-packages (from eth-rpc-py==0.1.8post6->emp-orderly) (10.4)\n",
      "Requirement already satisfied: cytoolz>=0.10.1 in ./.venv/lib/python3.12/site-packages (from eth-utils==4.1.0->emp-orderly) (0.12.3)\n",
      "Requirement already satisfied: anyio in ./.venv/lib/python3.12/site-packages (from httpx==0.27.0->emp-orderly) (4.6.0)\n",
      "Requirement already satisfied: certifi in ./.venv/lib/python3.12/site-packages (from httpx==0.27.0->emp-orderly) (2024.8.30)\n",
      "Requirement already satisfied: httpcore==1.* in ./.venv/lib/python3.12/site-packages (from httpx==0.27.0->emp-orderly) (1.0.6)\n",
      "Requirement already satisfied: idna in ./.venv/lib/python3.12/site-packages (from httpx==0.27.0->emp-orderly) (3.10)\n",
      "Requirement already satisfied: sniffio in ./.venv/lib/python3.12/site-packages (from httpx==0.27.0->emp-orderly) (1.3.1)\n",
      "Requirement already satisfied: python-dateutil>=2.8.2 in ./.venv/lib/python3.12/site-packages (from pandas==2.2.2->emp-orderly) (2.9.0.post0)\n",
      "Requirement already satisfied: pytz>=2020.1 in ./.venv/lib/python3.12/site-packages (from pandas==2.2.2->emp-orderly) (2024.2)\n",
      "Requirement already satisfied: tzdata>=2022.7 in ./.venv/lib/python3.12/site-packages (from pandas==2.2.2->emp-orderly) (2024.2)\n",
      "Requirement already satisfied: charset-normalizer<4,>=2 in ./.venv/lib/python3.12/site-packages (from requests==2.31.0->emp-orderly) (3.3.2)\n",
      "Requirement already satisfied: urllib3<3,>=1.21.1 in ./.venv/lib/python3.12/site-packages (from requests==2.31.0->emp-orderly) (1.26.20)\n",
      "Requirement already satisfied: h11<0.15,>=0.13 in ./.venv/lib/python3.12/site-packages (from httpcore==1.*->httpx==0.27.0->emp-orderly) (0.14.0)\n",
      "Requirement already satisfied: cycler>=0.10 in ./.venv/lib/python3.12/site-packages (from matplotlib) (0.12.1)\n",
      "Requirement already satisfied: fonttools>=4.22.0 in ./.venv/lib/python3.12/site-packages (from matplotlib) (4.54.1)\n",
      "Requirement already satisfied: kiwisolver>=1.3.1 in ./.venv/lib/python3.12/site-packages (from matplotlib) (1.4.7)\n",
      "Requirement already satisfied: pyparsing>=2.3.1 in ./.venv/lib/python3.12/site-packages (from matplotlib) (3.1.4)\n",
      "Requirement already satisfied: annotated-types>=0.6.0 in ./.venv/lib/python3.12/site-packages (from pydantic>=2.7.0->emp-orderly) (0.7.0)\n",
      "Requirement already satisfied: pydantic-core==2.23.4 in ./.venv/lib/python3.12/site-packages (from pydantic>=2.7.0->emp-orderly) (2.23.4)\n",
      "Requirement already satisfied: typing-extensions>=4.6.1 in ./.venv/lib/python3.12/site-packages (from pydantic>=2.7.0->emp-orderly) (4.12.2)\n",
      "Requirement already satisfied: six>=1.5 in ./.venv/lib/python3.12/site-packages (from python-dateutil>=2.8.2->pandas==2.2.2->emp-orderly) (1.16.0)\n",
      "Requirement already satisfied: pycparser in ./.venv/lib/python3.12/site-packages (from cffi>=1.12->cryptography==42.0.5->emp-orderly) (2.22)\n",
      "Requirement already satisfied: toolz>=0.8.0 in ./.venv/lib/python3.12/site-packages (from cytoolz>=0.10.1->eth-utils==4.1.0->emp-orderly) (0.12.1)\n",
      "Requirement already satisfied: MarkupSafe>=2.0 in ./.venv/lib/python3.12/site-packages (from Jinja2>=2.9->bokeh==3.4.1->emp-orderly) (2.1.5)\n",
      "Requirement already satisfied: parsimonious<0.11.0,>=0.10.0 in ./.venv/lib/python3.12/site-packages (from eth-abi->eth-rpc-py==0.1.8post6->emp-orderly) (0.10.0)\n",
      "Requirement already satisfied: bitarray>=2.4.0 in ./.venv/lib/python3.12/site-packages (from eth-account->eth-rpc-py==0.1.8post6->emp-orderly) (2.9.2)\n",
      "Requirement already satisfied: eth-keyfile<0.9.0,>=0.7.0 in ./.venv/lib/python3.12/site-packages (from eth-account->eth-rpc-py==0.1.8post6->emp-orderly) (0.8.1)\n",
      "Requirement already satisfied: eth-keys>=0.4.0 in ./.venv/lib/python3.12/site-packages (from eth-account->eth-rpc-py==0.1.8post6->emp-orderly) (0.5.1)\n",
      "Requirement already satisfied: eth-rlp>=2.1.0 in ./.venv/lib/python3.12/site-packages (from eth-account->eth-rpc-py==0.1.8post6->emp-orderly) (2.1.0)\n",
      "Requirement already satisfied: hexbytes>=1.2.0 in ./.venv/lib/python3.12/site-packages (from eth-account->eth-rpc-py==0.1.8post6->emp-orderly) (1.2.1)\n",
      "Requirement already satisfied: rlp>=1.0.0 in ./.venv/lib/python3.12/site-packages (from eth-account->eth-rpc-py==0.1.8post6->emp-orderly) (4.0.1)\n",
      "Requirement already satisfied: ckzg>=2.0.0 in ./.venv/lib/python3.12/site-packages (from eth-account->eth-rpc-py==0.1.8post6->emp-orderly) (2.0.1)\n",
      "Requirement already satisfied: pycryptodome<4,>=3.6.6 in ./.venv/lib/python3.12/site-packages (from eth-keyfile<0.9.0,>=0.7.0->eth-account->eth-rpc-py==0.1.8post6->emp-orderly) (3.20.0)\n",
      "Requirement already satisfied: regex>=2022.3.15 in ./.venv/lib/python3.12/site-packages (from parsimonious<0.11.0,>=0.10.0->eth-abi->eth-rpc-py==0.1.8post6->emp-orderly) (2024.9.11)\n"
     ]
    }
   ],
   "source": [
    "!pip install emp-orderly emp-orderly-types eth-typeshed-py pandas-ta numpy==1.26.4 matplotlib setuptools"
   ]
  },
  {
   "cell_type": "code",
   "execution_count": 2,
   "id": "88177fd2-bb7e-47bc-ad0d-ff5264f0d70a",
   "metadata": {},
   "outputs": [
    {
     "name": "stderr",
     "output_type": "stream",
     "text": [
      "/home/ademola/work/stackup/bounties/ajibola/orderly-strategy/.venv/lib/python3.12/site-packages/tqdm/auto.py:21: TqdmWarning: IProgress not found. Please update jupyter and ipywidgets. See https://ipywidgets.readthedocs.io/en/stable/user_install.html\n",
      "  from .autonotebook import tqdm as notebook_tqdm\n"
     ]
    },
    {
     "data": {
      "text/plain": [
       "True"
      ]
     },
     "execution_count": 2,
     "metadata": {},
     "output_type": "execute_result"
    }
   ],
   "source": [
    "from dotenv import load_dotenv\n",
    "import matplotlib.pyplot as plt\n",
    "\n",
    "from eth_rpc import PrivateKeyWallet\n",
    "from emp_orderly.utils import from_address\n",
    "from emp_orderly import (\n",
    "    Strategy, EmpOrderly,\n",
    "    crossover, SMA,\n",
    "    EmpyrealOrderlySDK,\n",
    ")\n",
    "from emp_orderly_types import PerpetualAssetType, Interval\n",
    "\n",
    "load_dotenv()"
   ]
  },
  {
   "cell_type": "code",
   "execution_count": 3,
   "id": "f79fa4a0-e27c-41e7-8630-058c65a9ad10",
   "metadata": {},
   "outputs": [],
   "source": [
    "wallet = PrivateKeyWallet.create_new()\n",
    "orderly_id = from_address(wallet.address)\n",
    "\n",
    "sdk = EmpyrealOrderlySDK(pvt_hex=wallet.private_key, account_id=orderly_id, is_testnet=True)"
   ]
  },
  {
   "cell_type": "code",
   "execution_count": 4,
   "id": "c83772b1-7242-42f9-88c5-e85a99dd1065",
   "metadata": {},
   "outputs": [
    {
     "data": {
      "text/plain": [
       "Start                     2024-09-26 00:15:00\n",
       "End                       2024-10-02 23:10:00\n",
       "Duration                      6 days 22:55:00\n",
       "Exposure Time [%]                   78.842315\n",
       "Equity Final [$]                  1264.432562\n",
       "Equity Peak [$]                   1285.205783\n",
       "Return [%]                          26.443256\n",
       "Buy & Hold Return [%]               -0.382629\n",
       "Return (Ann.) [%]             20565028.728445\n",
       "Volatility (Ann.) [%]          11813174.82821\n",
       "Sharpe Ratio                         1.740855\n",
       "Sortino Ratio                             inf\n",
       "Calmar Ratio                   4036863.793866\n",
       "Max. Drawdown [%]                   -5.094308\n",
       "Avg. Drawdown [%]                   -1.122615\n",
       "Max. Drawdown Duration        1 days 11:55:00\n",
       "Avg. Drawdown Duration        0 days 03:03:00\n",
       "# Trades                                   52\n",
       "Win Rate [%]                        48.076923\n",
       "Best Trade [%]                       9.074135\n",
       "Worst Trade [%]                     -1.657663\n",
       "Avg. Trade [%]                       0.452685\n",
       "Max. Trade Duration           0 days 07:20:00\n",
       "Avg. Trade Duration           0 days 02:32:00\n",
       "Profit Factor                        2.560418\n",
       "Expectancy [%]                       0.466433\n",
       "SQN                                  1.927699\n",
       "Kelly Criterion                      0.290215\n",
       "_strategy                    ExtendedSmaCross\n",
       "_equity_curve                             ...\n",
       "_trades                        Size  Entry...\n",
       "dtype: object"
      ]
     },
     "execution_count": 4,
     "metadata": {},
     "output_type": "execute_result"
    }
   ],
   "source": [
    "class ExtendedSmaCross(Strategy):\n",
    "    n1: int = 10\n",
    "    n2: int = 30\n",
    "\n",
    "    @classmethod\n",
    "    def update_lags(cls, n1, n2):\n",
    "        cls.n1 = n1\n",
    "        cls.n2 = n2\n",
    "\n",
    "    def init(self):\n",
    "        close = self.data.close\n",
    "        self.sma1 = self.I(SMA, close, self.n1)\n",
    "        self.sma2 = self.I(SMA, close, self.n2)\n",
    "\n",
    "    def next(self):\n",
    "        # probability, sentiment = self.get_sentiment()\n",
    "        if (\n",
    "            crossover(self.sma1, self.sma2)\n",
    "        ):\n",
    "            self.position.close()\n",
    "            self.buy(size=.999)\n",
    "        elif (\n",
    "            crossover(self.sma2, self.sma1)\n",
    "        ):\n",
    "            self.position.close()\n",
    "            self.sell(size=.999)\n",
    "\n",
    "\n",
    "tester = EmpOrderly(\n",
    "    cash=1000,\n",
    "    commission=.0001,\n",
    "    exclusive_orders=True,\n",
    "    sdk=sdk,\n",
    ")\n",
    "\n",
    "# load strategy and data\n",
    "tester.set_strategy(ExtendedSmaCross)\n",
    "await tester.load_data(\n",
    "    lookback=14,\n",
    "    interval=Interval.five_minute,\n",
    "    asset=PerpetualAssetType.DOGE,\n",
    ")\n",
    "\n",
    "# backtest\n",
    "tester.backtest()"
   ]
  },
  {
   "cell_type": "code",
   "execution_count": 5,
   "id": "49df7acd-124a-4b0e-a4fd-85cd18117fb2",
   "metadata": {},
   "outputs": [
    {
     "name": "stderr",
     "output_type": "stream",
     "text": [
      "/snap/core20/current/lib/x86_64-linux-gnu/libstdc++.so.6: version `GLIBCXX_3.4.29' not found (required by /lib/x86_64-linux-gnu/libproxy.so.1)\n",
      "Failed to load module: /home/ademola/snap/code/common/.cache/gio-modules/libgiolibproxy.so\n"
     ]
    },
    {
     "name": "stdout",
     "output_type": "stream",
     "text": [
      "Opening in existing browser session.\n"
     ]
    }
   ],
   "source": [
    "# plot\n",
    "tester.plot(show_price_data=False)\n",
    "plt.show()"
   ]
  }
 ],
 "metadata": {
  "kernelspec": {
   "display_name": "Python 3 (ipykernel)",
   "language": "python",
   "name": "python3"
  },
  "language_info": {
   "codemirror_mode": {
    "name": "ipython",
    "version": 3
   },
   "file_extension": ".py",
   "mimetype": "text/x-python",
   "name": "python",
   "nbconvert_exporter": "python",
   "pygments_lexer": "ipython3",
   "version": "3.12.4"
  }
 },
 "nbformat": 4,
 "nbformat_minor": 5
}
